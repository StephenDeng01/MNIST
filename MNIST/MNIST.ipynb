{
 "cells": [
  {
   "cell_type": "code",
   "id": "initial_id",
   "metadata": {
    "collapsed": true,
    "ExecuteTime": {
     "end_time": "2024-07-12T17:47:50.210259Z",
     "start_time": "2024-07-12T17:47:48.620135Z"
    }
   },
   "source": [
    "# 1 加载必要的库\n",
    "import torch\n",
    "import torch.nn as nn\n",
    "import torch.nn.functional as F\n",
    "import torch.optim as optim\n",
    "from torchvision import datasets, transforms"
   ],
   "outputs": [],
   "execution_count": 1
  },
  {
   "metadata": {
    "ExecuteTime": {
     "end_time": "2024-07-12T17:47:50.762279Z",
     "start_time": "2024-07-12T17:47:50.742346Z"
    }
   },
   "cell_type": "code",
   "source": [
    "# 2 定义超参数\n",
    "BATCH_SIZE = 16   # 根据电脑性能\n",
    "DEVICE = torch.device('cuda' if torch.cuda.is_available() else 'cpu')  # 优先选择gpu\n",
    "EPOCHS = 10  # 训练数据集的轮次"
   ],
   "id": "4b3d8f3795c20943",
   "outputs": [],
   "execution_count": 2
  },
  {
   "metadata": {
    "ExecuteTime": {
     "end_time": "2024-07-12T17:47:51.629562Z",
     "start_time": "2024-07-12T17:47:51.619595Z"
    }
   },
   "cell_type": "code",
   "source": [
    "# 3 构建pipeline，处理图像\n",
    "pipeline = transforms.Compose([\n",
    "    transforms.ToTensor(), # 将图片转化为张量形式\n",
    "    transforms.Normalize((0.1307,), (0.3081,))  # 先不要纠结这两个数为什么设置成这样，先按照官网的设置就对了  分别是：标准差  均值\n",
    "                                                # 正则化的作用就是，当出现过拟合现象的时候可以降低模型复杂度\n",
    "    \n",
    "])"
   ],
   "id": "f9c3d95d90d826f5",
   "outputs": [],
   "execution_count": 3
  },
  {
   "metadata": {
    "ExecuteTime": {
     "end_time": "2024-07-12T17:47:52.633384Z",
     "start_time": "2024-07-12T17:47:52.590529Z"
    }
   },
   "cell_type": "code",
   "source": [
    "# 4 下载，加载数据\n",
    "from torch.utils.data import DataLoader\n",
    "\n",
    "# 下载数据集\n",
    "train_set = datasets.MNIST('../data', train=True, transform=pipeline, download=True)   # 将transform 设置为pipeline，其实意义就是，pipeline中规定了流程和正则化要求\n",
    "\n",
    "test_set = datasets.MNIST('../data', train=False, transform=pipeline, download=True)\n",
    "\n",
    "# 加载数据\n",
    "train_loader = DataLoader(train_set, batch_size=BATCH_SIZE, shuffle=True)   # shuffle 就是打乱顺序，随机\n",
    "test_loader = DataLoader(test_set, batch_size=BATCH_SIZE, shuffle=True)"
   ],
   "id": "f27d7f905b98f51f",
   "outputs": [],
   "execution_count": 4
  },
  {
   "metadata": {
    "ExecuteTime": {
     "end_time": "2024-07-12T17:47:53.593317Z",
     "start_time": "2024-07-12T17:47:53.558434Z"
    }
   },
   "cell_type": "code",
   "source": [
    "# 插入代码，显示mnist中的图片\n",
    "with open('../data/MNIST/raw/train-images-idx3-ubyte', 'rb') as f:\n",
    "    file = f.read()"
   ],
   "id": "8da1eaaf8e014874",
   "outputs": [],
   "execution_count": 5
  },
  {
   "metadata": {
    "ExecuteTime": {
     "end_time": "2024-07-12T17:47:54.334432Z",
     "start_time": "2024-07-12T17:47:54.321476Z"
    }
   },
   "cell_type": "code",
   "source": [
    "image1 = [int(str(item).encode('ascii'), 16) for item in file[16:16+784]]\n",
    "print(image1)"
   ],
   "id": "f663b81b5d5b0bd8",
   "outputs": [
    {
     "name": "stdout",
     "output_type": "stream",
     "text": [
      "[0, 0, 0, 0, 0, 0, 0, 0, 0, 0, 0, 0, 0, 0, 0, 0, 0, 0, 0, 0, 0, 0, 0, 0, 0, 0, 0, 0, 0, 0, 0, 0, 0, 0, 0, 0, 0, 0, 0, 0, 0, 0, 0, 0, 0, 0, 0, 0, 0, 0, 0, 0, 0, 0, 0, 0, 0, 0, 0, 0, 0, 0, 0, 0, 0, 0, 0, 0, 0, 0, 0, 0, 0, 0, 0, 0, 0, 0, 0, 0, 0, 0, 0, 0, 0, 0, 0, 0, 0, 0, 0, 0, 0, 0, 0, 0, 0, 0, 0, 0, 0, 0, 0, 0, 0, 0, 0, 0, 0, 0, 0, 0, 0, 0, 0, 0, 0, 0, 0, 0, 0, 0, 0, 0, 0, 0, 0, 0, 0, 0, 0, 0, 0, 0, 0, 0, 0, 0, 0, 0, 0, 0, 0, 0, 0, 0, 0, 0, 0, 0, 0, 0, 3, 24, 24, 24, 294, 310, 373, 38, 358, 597, 583, 295, 0, 0, 0, 0, 0, 0, 0, 0, 0, 0, 0, 0, 48, 54, 148, 340, 368, 595, 595, 595, 595, 595, 549, 370, 595, 578, 405, 100, 0, 0, 0, 0, 0, 0, 0, 0, 0, 0, 0, 73, 568, 595, 595, 595, 595, 595, 595, 595, 595, 593, 147, 130, 130, 86, 57, 0, 0, 0, 0, 0, 0, 0, 0, 0, 0, 0, 0, 24, 537, 595, 595, 595, 595, 595, 408, 386, 583, 577, 0, 0, 0, 0, 0, 0, 0, 0, 0, 0, 0, 0, 0, 0, 0, 0, 0, 0, 128, 342, 263, 595, 595, 517, 17, 0, 67, 340, 0, 0, 0, 0, 0, 0, 0, 0, 0, 0, 0, 0, 0, 0, 0, 0, 0, 0, 0, 20, 1, 340, 595, 144, 0, 0, 0, 0, 0, 0, 0, 0, 0, 0, 0, 0, 0, 0, 0, 0, 0, 0, 0, 0, 0, 0, 0, 0, 0, 313, 595, 400, 2, 0, 0, 0, 0, 0, 0, 0, 0, 0, 0, 0, 0, 0, 0, 0, 0, 0, 0, 0, 0, 0, 0, 0, 0, 17, 400, 595, 112, 0, 0, 0, 0, 0, 0, 0, 0, 0, 0, 0, 0, 0, 0, 0, 0, 0, 0, 0, 0, 0, 0, 0, 0, 0, 53, 577, 549, 352, 264, 1, 0, 0, 0, 0, 0, 0, 0, 0, 0, 0, 0, 0, 0, 0, 0, 0, 0, 0, 0, 0, 0, 0, 0, 129, 576, 595, 595, 281, 37, 0, 0, 0, 0, 0, 0, 0, 0, 0, 0, 0, 0, 0, 0, 0, 0, 0, 0, 0, 0, 0, 0, 0, 69, 390, 595, 595, 336, 39, 0, 0, 0, 0, 0, 0, 0, 0, 0, 0, 0, 0, 0, 0, 0, 0, 0, 0, 0, 0, 0, 0, 0, 22, 147, 594, 595, 391, 0, 0, 0, 0, 0, 0, 0, 0, 0, 0, 0, 0, 0, 0, 0, 0, 0, 0, 0, 0, 0, 0, 0, 0, 0, 585, 595, 585, 100, 0, 0, 0, 0, 0, 0, 0, 0, 0, 0, 0, 0, 0, 0, 0, 0, 0, 0, 0, 0, 0, 70, 304, 387, 595, 595, 519, 2, 0, 0, 0, 0, 0, 0, 0, 0, 0, 0, 0, 0, 0, 0, 0, 0, 0, 0, 0, 57, 328, 553, 595, 595, 595, 592, 386, 0, 0, 0, 0, 0, 0, 0, 0, 0, 0, 0, 0, 0, 0, 0, 0, 0, 0, 36, 276, 545, 595, 595, 595, 595, 513, 120, 0, 0, 0, 0, 0, 0, 0, 0, 0, 0, 0, 0, 0, 0, 0, 0, 0, 35, 102, 531, 595, 595, 595, 595, 408, 129, 2, 0, 0, 0, 0, 0, 0, 0, 0, 0, 0, 0, 0, 0, 0, 0, 0, 24, 369, 537, 595, 595, 595, 595, 405, 128, 9, 0, 0, 0, 0, 0, 0, 0, 0, 0, 0, 0, 0, 0, 0, 0, 0, 85, 370, 550, 595, 595, 595, 595, 580, 307, 17, 0, 0, 0, 0, 0, 0, 0, 0, 0, 0, 0, 0, 0, 0, 0, 0, 0, 0, 310, 595, 595, 595, 530, 309, 306, 22, 0, 0, 0, 0, 0, 0, 0, 0, 0, 0, 0, 0, 0, 0, 0, 0, 0, 0, 0, 0, 0, 0, 0, 0, 0, 0, 0, 0, 0, 0, 0, 0, 0, 0, 0, 0, 0, 0, 0, 0, 0, 0, 0, 0, 0, 0, 0, 0, 0, 0, 0, 0, 0, 0, 0, 0, 0, 0, 0, 0, 0, 0, 0, 0, 0, 0, 0, 0, 0, 0, 0, 0, 0, 0, 0, 0, 0, 0, 0, 0, 0, 0, 0, 0, 0, 0, 0, 0, 0, 0, 0, 0, 0, 0, 0, 0, 0, 0, 0, 0]\n"
     ]
    }
   ],
   "execution_count": 6
  },
  {
   "metadata": {
    "ExecuteTime": {
     "end_time": "2024-07-12T17:47:55.308838Z",
     "start_time": "2024-07-12T17:47:55.277942Z"
    }
   },
   "cell_type": "code",
   "source": [
    "import cv2\n",
    "import numpy as np\n",
    "\n",
    "image1_np = np.array(image1, dtype=np.uint8).reshape(28, 28, 1)   # 把这个image1转化为一个数学形式，采用np.array（）的方法\n",
    "\n",
    "print(image1_np.shape)"
   ],
   "id": "77bb518bfe87b831",
   "outputs": [
    {
     "name": "stdout",
     "output_type": "stream",
     "text": [
      "(28, 28, 1)\n"
     ]
    },
    {
     "name": "stderr",
     "output_type": "stream",
     "text": [
      "C:\\Users\\Administrator\\AppData\\Local\\Temp\\ipykernel_14784\\1130399795.py:4: DeprecationWarning: NumPy will stop allowing conversion of out-of-bound Python integers to integer arrays.  The conversion of 294 to uint8 will fail in the future.\n",
      "For the old behavior, usually:\n",
      "    np.array(value).astype(dtype)`\n",
      "will give the desired result (the cast overflows).\n",
      "  image1_np = np.array(image1, dtype=np.uint8).reshape(28, 28, 1)   # 把这个image1转化为一个数学形式，采用np.array（）的方法\n",
      "C:\\Users\\Administrator\\AppData\\Local\\Temp\\ipykernel_14784\\1130399795.py:4: DeprecationWarning: NumPy will stop allowing conversion of out-of-bound Python integers to integer arrays.  The conversion of 310 to uint8 will fail in the future.\n",
      "For the old behavior, usually:\n",
      "    np.array(value).astype(dtype)`\n",
      "will give the desired result (the cast overflows).\n",
      "  image1_np = np.array(image1, dtype=np.uint8).reshape(28, 28, 1)   # 把这个image1转化为一个数学形式，采用np.array（）的方法\n",
      "C:\\Users\\Administrator\\AppData\\Local\\Temp\\ipykernel_14784\\1130399795.py:4: DeprecationWarning: NumPy will stop allowing conversion of out-of-bound Python integers to integer arrays.  The conversion of 373 to uint8 will fail in the future.\n",
      "For the old behavior, usually:\n",
      "    np.array(value).astype(dtype)`\n",
      "will give the desired result (the cast overflows).\n",
      "  image1_np = np.array(image1, dtype=np.uint8).reshape(28, 28, 1)   # 把这个image1转化为一个数学形式，采用np.array（）的方法\n",
      "C:\\Users\\Administrator\\AppData\\Local\\Temp\\ipykernel_14784\\1130399795.py:4: DeprecationWarning: NumPy will stop allowing conversion of out-of-bound Python integers to integer arrays.  The conversion of 358 to uint8 will fail in the future.\n",
      "For the old behavior, usually:\n",
      "    np.array(value).astype(dtype)`\n",
      "will give the desired result (the cast overflows).\n",
      "  image1_np = np.array(image1, dtype=np.uint8).reshape(28, 28, 1)   # 把这个image1转化为一个数学形式，采用np.array（）的方法\n",
      "C:\\Users\\Administrator\\AppData\\Local\\Temp\\ipykernel_14784\\1130399795.py:4: DeprecationWarning: NumPy will stop allowing conversion of out-of-bound Python integers to integer arrays.  The conversion of 597 to uint8 will fail in the future.\n",
      "For the old behavior, usually:\n",
      "    np.array(value).astype(dtype)`\n",
      "will give the desired result (the cast overflows).\n",
      "  image1_np = np.array(image1, dtype=np.uint8).reshape(28, 28, 1)   # 把这个image1转化为一个数学形式，采用np.array（）的方法\n",
      "C:\\Users\\Administrator\\AppData\\Local\\Temp\\ipykernel_14784\\1130399795.py:4: DeprecationWarning: NumPy will stop allowing conversion of out-of-bound Python integers to integer arrays.  The conversion of 583 to uint8 will fail in the future.\n",
      "For the old behavior, usually:\n",
      "    np.array(value).astype(dtype)`\n",
      "will give the desired result (the cast overflows).\n",
      "  image1_np = np.array(image1, dtype=np.uint8).reshape(28, 28, 1)   # 把这个image1转化为一个数学形式，采用np.array（）的方法\n",
      "C:\\Users\\Administrator\\AppData\\Local\\Temp\\ipykernel_14784\\1130399795.py:4: DeprecationWarning: NumPy will stop allowing conversion of out-of-bound Python integers to integer arrays.  The conversion of 295 to uint8 will fail in the future.\n",
      "For the old behavior, usually:\n",
      "    np.array(value).astype(dtype)`\n",
      "will give the desired result (the cast overflows).\n",
      "  image1_np = np.array(image1, dtype=np.uint8).reshape(28, 28, 1)   # 把这个image1转化为一个数学形式，采用np.array（）的方法\n",
      "C:\\Users\\Administrator\\AppData\\Local\\Temp\\ipykernel_14784\\1130399795.py:4: DeprecationWarning: NumPy will stop allowing conversion of out-of-bound Python integers to integer arrays.  The conversion of 340 to uint8 will fail in the future.\n",
      "For the old behavior, usually:\n",
      "    np.array(value).astype(dtype)`\n",
      "will give the desired result (the cast overflows).\n",
      "  image1_np = np.array(image1, dtype=np.uint8).reshape(28, 28, 1)   # 把这个image1转化为一个数学形式，采用np.array（）的方法\n",
      "C:\\Users\\Administrator\\AppData\\Local\\Temp\\ipykernel_14784\\1130399795.py:4: DeprecationWarning: NumPy will stop allowing conversion of out-of-bound Python integers to integer arrays.  The conversion of 368 to uint8 will fail in the future.\n",
      "For the old behavior, usually:\n",
      "    np.array(value).astype(dtype)`\n",
      "will give the desired result (the cast overflows).\n",
      "  image1_np = np.array(image1, dtype=np.uint8).reshape(28, 28, 1)   # 把这个image1转化为一个数学形式，采用np.array（）的方法\n",
      "C:\\Users\\Administrator\\AppData\\Local\\Temp\\ipykernel_14784\\1130399795.py:4: DeprecationWarning: NumPy will stop allowing conversion of out-of-bound Python integers to integer arrays.  The conversion of 595 to uint8 will fail in the future.\n",
      "For the old behavior, usually:\n",
      "    np.array(value).astype(dtype)`\n",
      "will give the desired result (the cast overflows).\n",
      "  image1_np = np.array(image1, dtype=np.uint8).reshape(28, 28, 1)   # 把这个image1转化为一个数学形式，采用np.array（）的方法\n",
      "C:\\Users\\Administrator\\AppData\\Local\\Temp\\ipykernel_14784\\1130399795.py:4: DeprecationWarning: NumPy will stop allowing conversion of out-of-bound Python integers to integer arrays.  The conversion of 549 to uint8 will fail in the future.\n",
      "For the old behavior, usually:\n",
      "    np.array(value).astype(dtype)`\n",
      "will give the desired result (the cast overflows).\n",
      "  image1_np = np.array(image1, dtype=np.uint8).reshape(28, 28, 1)   # 把这个image1转化为一个数学形式，采用np.array（）的方法\n",
      "C:\\Users\\Administrator\\AppData\\Local\\Temp\\ipykernel_14784\\1130399795.py:4: DeprecationWarning: NumPy will stop allowing conversion of out-of-bound Python integers to integer arrays.  The conversion of 370 to uint8 will fail in the future.\n",
      "For the old behavior, usually:\n",
      "    np.array(value).astype(dtype)`\n",
      "will give the desired result (the cast overflows).\n",
      "  image1_np = np.array(image1, dtype=np.uint8).reshape(28, 28, 1)   # 把这个image1转化为一个数学形式，采用np.array（）的方法\n",
      "C:\\Users\\Administrator\\AppData\\Local\\Temp\\ipykernel_14784\\1130399795.py:4: DeprecationWarning: NumPy will stop allowing conversion of out-of-bound Python integers to integer arrays.  The conversion of 578 to uint8 will fail in the future.\n",
      "For the old behavior, usually:\n",
      "    np.array(value).astype(dtype)`\n",
      "will give the desired result (the cast overflows).\n",
      "  image1_np = np.array(image1, dtype=np.uint8).reshape(28, 28, 1)   # 把这个image1转化为一个数学形式，采用np.array（）的方法\n",
      "C:\\Users\\Administrator\\AppData\\Local\\Temp\\ipykernel_14784\\1130399795.py:4: DeprecationWarning: NumPy will stop allowing conversion of out-of-bound Python integers to integer arrays.  The conversion of 405 to uint8 will fail in the future.\n",
      "For the old behavior, usually:\n",
      "    np.array(value).astype(dtype)`\n",
      "will give the desired result (the cast overflows).\n",
      "  image1_np = np.array(image1, dtype=np.uint8).reshape(28, 28, 1)   # 把这个image1转化为一个数学形式，采用np.array（）的方法\n",
      "C:\\Users\\Administrator\\AppData\\Local\\Temp\\ipykernel_14784\\1130399795.py:4: DeprecationWarning: NumPy will stop allowing conversion of out-of-bound Python integers to integer arrays.  The conversion of 568 to uint8 will fail in the future.\n",
      "For the old behavior, usually:\n",
      "    np.array(value).astype(dtype)`\n",
      "will give the desired result (the cast overflows).\n",
      "  image1_np = np.array(image1, dtype=np.uint8).reshape(28, 28, 1)   # 把这个image1转化为一个数学形式，采用np.array（）的方法\n",
      "C:\\Users\\Administrator\\AppData\\Local\\Temp\\ipykernel_14784\\1130399795.py:4: DeprecationWarning: NumPy will stop allowing conversion of out-of-bound Python integers to integer arrays.  The conversion of 593 to uint8 will fail in the future.\n",
      "For the old behavior, usually:\n",
      "    np.array(value).astype(dtype)`\n",
      "will give the desired result (the cast overflows).\n",
      "  image1_np = np.array(image1, dtype=np.uint8).reshape(28, 28, 1)   # 把这个image1转化为一个数学形式，采用np.array（）的方法\n",
      "C:\\Users\\Administrator\\AppData\\Local\\Temp\\ipykernel_14784\\1130399795.py:4: DeprecationWarning: NumPy will stop allowing conversion of out-of-bound Python integers to integer arrays.  The conversion of 537 to uint8 will fail in the future.\n",
      "For the old behavior, usually:\n",
      "    np.array(value).astype(dtype)`\n",
      "will give the desired result (the cast overflows).\n",
      "  image1_np = np.array(image1, dtype=np.uint8).reshape(28, 28, 1)   # 把这个image1转化为一个数学形式，采用np.array（）的方法\n",
      "C:\\Users\\Administrator\\AppData\\Local\\Temp\\ipykernel_14784\\1130399795.py:4: DeprecationWarning: NumPy will stop allowing conversion of out-of-bound Python integers to integer arrays.  The conversion of 408 to uint8 will fail in the future.\n",
      "For the old behavior, usually:\n",
      "    np.array(value).astype(dtype)`\n",
      "will give the desired result (the cast overflows).\n",
      "  image1_np = np.array(image1, dtype=np.uint8).reshape(28, 28, 1)   # 把这个image1转化为一个数学形式，采用np.array（）的方法\n",
      "C:\\Users\\Administrator\\AppData\\Local\\Temp\\ipykernel_14784\\1130399795.py:4: DeprecationWarning: NumPy will stop allowing conversion of out-of-bound Python integers to integer arrays.  The conversion of 386 to uint8 will fail in the future.\n",
      "For the old behavior, usually:\n",
      "    np.array(value).astype(dtype)`\n",
      "will give the desired result (the cast overflows).\n",
      "  image1_np = np.array(image1, dtype=np.uint8).reshape(28, 28, 1)   # 把这个image1转化为一个数学形式，采用np.array（）的方法\n",
      "C:\\Users\\Administrator\\AppData\\Local\\Temp\\ipykernel_14784\\1130399795.py:4: DeprecationWarning: NumPy will stop allowing conversion of out-of-bound Python integers to integer arrays.  The conversion of 577 to uint8 will fail in the future.\n",
      "For the old behavior, usually:\n",
      "    np.array(value).astype(dtype)`\n",
      "will give the desired result (the cast overflows).\n",
      "  image1_np = np.array(image1, dtype=np.uint8).reshape(28, 28, 1)   # 把这个image1转化为一个数学形式，采用np.array（）的方法\n",
      "C:\\Users\\Administrator\\AppData\\Local\\Temp\\ipykernel_14784\\1130399795.py:4: DeprecationWarning: NumPy will stop allowing conversion of out-of-bound Python integers to integer arrays.  The conversion of 342 to uint8 will fail in the future.\n",
      "For the old behavior, usually:\n",
      "    np.array(value).astype(dtype)`\n",
      "will give the desired result (the cast overflows).\n",
      "  image1_np = np.array(image1, dtype=np.uint8).reshape(28, 28, 1)   # 把这个image1转化为一个数学形式，采用np.array（）的方法\n",
      "C:\\Users\\Administrator\\AppData\\Local\\Temp\\ipykernel_14784\\1130399795.py:4: DeprecationWarning: NumPy will stop allowing conversion of out-of-bound Python integers to integer arrays.  The conversion of 263 to uint8 will fail in the future.\n",
      "For the old behavior, usually:\n",
      "    np.array(value).astype(dtype)`\n",
      "will give the desired result (the cast overflows).\n",
      "  image1_np = np.array(image1, dtype=np.uint8).reshape(28, 28, 1)   # 把这个image1转化为一个数学形式，采用np.array（）的方法\n",
      "C:\\Users\\Administrator\\AppData\\Local\\Temp\\ipykernel_14784\\1130399795.py:4: DeprecationWarning: NumPy will stop allowing conversion of out-of-bound Python integers to integer arrays.  The conversion of 517 to uint8 will fail in the future.\n",
      "For the old behavior, usually:\n",
      "    np.array(value).astype(dtype)`\n",
      "will give the desired result (the cast overflows).\n",
      "  image1_np = np.array(image1, dtype=np.uint8).reshape(28, 28, 1)   # 把这个image1转化为一个数学形式，采用np.array（）的方法\n",
      "C:\\Users\\Administrator\\AppData\\Local\\Temp\\ipykernel_14784\\1130399795.py:4: DeprecationWarning: NumPy will stop allowing conversion of out-of-bound Python integers to integer arrays.  The conversion of 313 to uint8 will fail in the future.\n",
      "For the old behavior, usually:\n",
      "    np.array(value).astype(dtype)`\n",
      "will give the desired result (the cast overflows).\n",
      "  image1_np = np.array(image1, dtype=np.uint8).reshape(28, 28, 1)   # 把这个image1转化为一个数学形式，采用np.array（）的方法\n",
      "C:\\Users\\Administrator\\AppData\\Local\\Temp\\ipykernel_14784\\1130399795.py:4: DeprecationWarning: NumPy will stop allowing conversion of out-of-bound Python integers to integer arrays.  The conversion of 400 to uint8 will fail in the future.\n",
      "For the old behavior, usually:\n",
      "    np.array(value).astype(dtype)`\n",
      "will give the desired result (the cast overflows).\n",
      "  image1_np = np.array(image1, dtype=np.uint8).reshape(28, 28, 1)   # 把这个image1转化为一个数学形式，采用np.array（）的方法\n",
      "C:\\Users\\Administrator\\AppData\\Local\\Temp\\ipykernel_14784\\1130399795.py:4: DeprecationWarning: NumPy will stop allowing conversion of out-of-bound Python integers to integer arrays.  The conversion of 352 to uint8 will fail in the future.\n",
      "For the old behavior, usually:\n",
      "    np.array(value).astype(dtype)`\n",
      "will give the desired result (the cast overflows).\n",
      "  image1_np = np.array(image1, dtype=np.uint8).reshape(28, 28, 1)   # 把这个image1转化为一个数学形式，采用np.array（）的方法\n",
      "C:\\Users\\Administrator\\AppData\\Local\\Temp\\ipykernel_14784\\1130399795.py:4: DeprecationWarning: NumPy will stop allowing conversion of out-of-bound Python integers to integer arrays.  The conversion of 264 to uint8 will fail in the future.\n",
      "For the old behavior, usually:\n",
      "    np.array(value).astype(dtype)`\n",
      "will give the desired result (the cast overflows).\n",
      "  image1_np = np.array(image1, dtype=np.uint8).reshape(28, 28, 1)   # 把这个image1转化为一个数学形式，采用np.array（）的方法\n",
      "C:\\Users\\Administrator\\AppData\\Local\\Temp\\ipykernel_14784\\1130399795.py:4: DeprecationWarning: NumPy will stop allowing conversion of out-of-bound Python integers to integer arrays.  The conversion of 576 to uint8 will fail in the future.\n",
      "For the old behavior, usually:\n",
      "    np.array(value).astype(dtype)`\n",
      "will give the desired result (the cast overflows).\n",
      "  image1_np = np.array(image1, dtype=np.uint8).reshape(28, 28, 1)   # 把这个image1转化为一个数学形式，采用np.array（）的方法\n",
      "C:\\Users\\Administrator\\AppData\\Local\\Temp\\ipykernel_14784\\1130399795.py:4: DeprecationWarning: NumPy will stop allowing conversion of out-of-bound Python integers to integer arrays.  The conversion of 281 to uint8 will fail in the future.\n",
      "For the old behavior, usually:\n",
      "    np.array(value).astype(dtype)`\n",
      "will give the desired result (the cast overflows).\n",
      "  image1_np = np.array(image1, dtype=np.uint8).reshape(28, 28, 1)   # 把这个image1转化为一个数学形式，采用np.array（）的方法\n",
      "C:\\Users\\Administrator\\AppData\\Local\\Temp\\ipykernel_14784\\1130399795.py:4: DeprecationWarning: NumPy will stop allowing conversion of out-of-bound Python integers to integer arrays.  The conversion of 390 to uint8 will fail in the future.\n",
      "For the old behavior, usually:\n",
      "    np.array(value).astype(dtype)`\n",
      "will give the desired result (the cast overflows).\n",
      "  image1_np = np.array(image1, dtype=np.uint8).reshape(28, 28, 1)   # 把这个image1转化为一个数学形式，采用np.array（）的方法\n",
      "C:\\Users\\Administrator\\AppData\\Local\\Temp\\ipykernel_14784\\1130399795.py:4: DeprecationWarning: NumPy will stop allowing conversion of out-of-bound Python integers to integer arrays.  The conversion of 336 to uint8 will fail in the future.\n",
      "For the old behavior, usually:\n",
      "    np.array(value).astype(dtype)`\n",
      "will give the desired result (the cast overflows).\n",
      "  image1_np = np.array(image1, dtype=np.uint8).reshape(28, 28, 1)   # 把这个image1转化为一个数学形式，采用np.array（）的方法\n",
      "C:\\Users\\Administrator\\AppData\\Local\\Temp\\ipykernel_14784\\1130399795.py:4: DeprecationWarning: NumPy will stop allowing conversion of out-of-bound Python integers to integer arrays.  The conversion of 594 to uint8 will fail in the future.\n",
      "For the old behavior, usually:\n",
      "    np.array(value).astype(dtype)`\n",
      "will give the desired result (the cast overflows).\n",
      "  image1_np = np.array(image1, dtype=np.uint8).reshape(28, 28, 1)   # 把这个image1转化为一个数学形式，采用np.array（）的方法\n",
      "C:\\Users\\Administrator\\AppData\\Local\\Temp\\ipykernel_14784\\1130399795.py:4: DeprecationWarning: NumPy will stop allowing conversion of out-of-bound Python integers to integer arrays.  The conversion of 391 to uint8 will fail in the future.\n",
      "For the old behavior, usually:\n",
      "    np.array(value).astype(dtype)`\n",
      "will give the desired result (the cast overflows).\n",
      "  image1_np = np.array(image1, dtype=np.uint8).reshape(28, 28, 1)   # 把这个image1转化为一个数学形式，采用np.array（）的方法\n",
      "C:\\Users\\Administrator\\AppData\\Local\\Temp\\ipykernel_14784\\1130399795.py:4: DeprecationWarning: NumPy will stop allowing conversion of out-of-bound Python integers to integer arrays.  The conversion of 585 to uint8 will fail in the future.\n",
      "For the old behavior, usually:\n",
      "    np.array(value).astype(dtype)`\n",
      "will give the desired result (the cast overflows).\n",
      "  image1_np = np.array(image1, dtype=np.uint8).reshape(28, 28, 1)   # 把这个image1转化为一个数学形式，采用np.array（）的方法\n",
      "C:\\Users\\Administrator\\AppData\\Local\\Temp\\ipykernel_14784\\1130399795.py:4: DeprecationWarning: NumPy will stop allowing conversion of out-of-bound Python integers to integer arrays.  The conversion of 304 to uint8 will fail in the future.\n",
      "For the old behavior, usually:\n",
      "    np.array(value).astype(dtype)`\n",
      "will give the desired result (the cast overflows).\n",
      "  image1_np = np.array(image1, dtype=np.uint8).reshape(28, 28, 1)   # 把这个image1转化为一个数学形式，采用np.array（）的方法\n",
      "C:\\Users\\Administrator\\AppData\\Local\\Temp\\ipykernel_14784\\1130399795.py:4: DeprecationWarning: NumPy will stop allowing conversion of out-of-bound Python integers to integer arrays.  The conversion of 387 to uint8 will fail in the future.\n",
      "For the old behavior, usually:\n",
      "    np.array(value).astype(dtype)`\n",
      "will give the desired result (the cast overflows).\n",
      "  image1_np = np.array(image1, dtype=np.uint8).reshape(28, 28, 1)   # 把这个image1转化为一个数学形式，采用np.array（）的方法\n",
      "C:\\Users\\Administrator\\AppData\\Local\\Temp\\ipykernel_14784\\1130399795.py:4: DeprecationWarning: NumPy will stop allowing conversion of out-of-bound Python integers to integer arrays.  The conversion of 519 to uint8 will fail in the future.\n",
      "For the old behavior, usually:\n",
      "    np.array(value).astype(dtype)`\n",
      "will give the desired result (the cast overflows).\n",
      "  image1_np = np.array(image1, dtype=np.uint8).reshape(28, 28, 1)   # 把这个image1转化为一个数学形式，采用np.array（）的方法\n",
      "C:\\Users\\Administrator\\AppData\\Local\\Temp\\ipykernel_14784\\1130399795.py:4: DeprecationWarning: NumPy will stop allowing conversion of out-of-bound Python integers to integer arrays.  The conversion of 328 to uint8 will fail in the future.\n",
      "For the old behavior, usually:\n",
      "    np.array(value).astype(dtype)`\n",
      "will give the desired result (the cast overflows).\n",
      "  image1_np = np.array(image1, dtype=np.uint8).reshape(28, 28, 1)   # 把这个image1转化为一个数学形式，采用np.array（）的方法\n",
      "C:\\Users\\Administrator\\AppData\\Local\\Temp\\ipykernel_14784\\1130399795.py:4: DeprecationWarning: NumPy will stop allowing conversion of out-of-bound Python integers to integer arrays.  The conversion of 553 to uint8 will fail in the future.\n",
      "For the old behavior, usually:\n",
      "    np.array(value).astype(dtype)`\n",
      "will give the desired result (the cast overflows).\n",
      "  image1_np = np.array(image1, dtype=np.uint8).reshape(28, 28, 1)   # 把这个image1转化为一个数学形式，采用np.array（）的方法\n",
      "C:\\Users\\Administrator\\AppData\\Local\\Temp\\ipykernel_14784\\1130399795.py:4: DeprecationWarning: NumPy will stop allowing conversion of out-of-bound Python integers to integer arrays.  The conversion of 592 to uint8 will fail in the future.\n",
      "For the old behavior, usually:\n",
      "    np.array(value).astype(dtype)`\n",
      "will give the desired result (the cast overflows).\n",
      "  image1_np = np.array(image1, dtype=np.uint8).reshape(28, 28, 1)   # 把这个image1转化为一个数学形式，采用np.array（）的方法\n",
      "C:\\Users\\Administrator\\AppData\\Local\\Temp\\ipykernel_14784\\1130399795.py:4: DeprecationWarning: NumPy will stop allowing conversion of out-of-bound Python integers to integer arrays.  The conversion of 276 to uint8 will fail in the future.\n",
      "For the old behavior, usually:\n",
      "    np.array(value).astype(dtype)`\n",
      "will give the desired result (the cast overflows).\n",
      "  image1_np = np.array(image1, dtype=np.uint8).reshape(28, 28, 1)   # 把这个image1转化为一个数学形式，采用np.array（）的方法\n",
      "C:\\Users\\Administrator\\AppData\\Local\\Temp\\ipykernel_14784\\1130399795.py:4: DeprecationWarning: NumPy will stop allowing conversion of out-of-bound Python integers to integer arrays.  The conversion of 545 to uint8 will fail in the future.\n",
      "For the old behavior, usually:\n",
      "    np.array(value).astype(dtype)`\n",
      "will give the desired result (the cast overflows).\n",
      "  image1_np = np.array(image1, dtype=np.uint8).reshape(28, 28, 1)   # 把这个image1转化为一个数学形式，采用np.array（）的方法\n",
      "C:\\Users\\Administrator\\AppData\\Local\\Temp\\ipykernel_14784\\1130399795.py:4: DeprecationWarning: NumPy will stop allowing conversion of out-of-bound Python integers to integer arrays.  The conversion of 513 to uint8 will fail in the future.\n",
      "For the old behavior, usually:\n",
      "    np.array(value).astype(dtype)`\n",
      "will give the desired result (the cast overflows).\n",
      "  image1_np = np.array(image1, dtype=np.uint8).reshape(28, 28, 1)   # 把这个image1转化为一个数学形式，采用np.array（）的方法\n",
      "C:\\Users\\Administrator\\AppData\\Local\\Temp\\ipykernel_14784\\1130399795.py:4: DeprecationWarning: NumPy will stop allowing conversion of out-of-bound Python integers to integer arrays.  The conversion of 531 to uint8 will fail in the future.\n",
      "For the old behavior, usually:\n",
      "    np.array(value).astype(dtype)`\n",
      "will give the desired result (the cast overflows).\n",
      "  image1_np = np.array(image1, dtype=np.uint8).reshape(28, 28, 1)   # 把这个image1转化为一个数学形式，采用np.array（）的方法\n",
      "C:\\Users\\Administrator\\AppData\\Local\\Temp\\ipykernel_14784\\1130399795.py:4: DeprecationWarning: NumPy will stop allowing conversion of out-of-bound Python integers to integer arrays.  The conversion of 369 to uint8 will fail in the future.\n",
      "For the old behavior, usually:\n",
      "    np.array(value).astype(dtype)`\n",
      "will give the desired result (the cast overflows).\n",
      "  image1_np = np.array(image1, dtype=np.uint8).reshape(28, 28, 1)   # 把这个image1转化为一个数学形式，采用np.array（）的方法\n",
      "C:\\Users\\Administrator\\AppData\\Local\\Temp\\ipykernel_14784\\1130399795.py:4: DeprecationWarning: NumPy will stop allowing conversion of out-of-bound Python integers to integer arrays.  The conversion of 550 to uint8 will fail in the future.\n",
      "For the old behavior, usually:\n",
      "    np.array(value).astype(dtype)`\n",
      "will give the desired result (the cast overflows).\n",
      "  image1_np = np.array(image1, dtype=np.uint8).reshape(28, 28, 1)   # 把这个image1转化为一个数学形式，采用np.array（）的方法\n",
      "C:\\Users\\Administrator\\AppData\\Local\\Temp\\ipykernel_14784\\1130399795.py:4: DeprecationWarning: NumPy will stop allowing conversion of out-of-bound Python integers to integer arrays.  The conversion of 580 to uint8 will fail in the future.\n",
      "For the old behavior, usually:\n",
      "    np.array(value).astype(dtype)`\n",
      "will give the desired result (the cast overflows).\n",
      "  image1_np = np.array(image1, dtype=np.uint8).reshape(28, 28, 1)   # 把这个image1转化为一个数学形式，采用np.array（）的方法\n",
      "C:\\Users\\Administrator\\AppData\\Local\\Temp\\ipykernel_14784\\1130399795.py:4: DeprecationWarning: NumPy will stop allowing conversion of out-of-bound Python integers to integer arrays.  The conversion of 307 to uint8 will fail in the future.\n",
      "For the old behavior, usually:\n",
      "    np.array(value).astype(dtype)`\n",
      "will give the desired result (the cast overflows).\n",
      "  image1_np = np.array(image1, dtype=np.uint8).reshape(28, 28, 1)   # 把这个image1转化为一个数学形式，采用np.array（）的方法\n",
      "C:\\Users\\Administrator\\AppData\\Local\\Temp\\ipykernel_14784\\1130399795.py:4: DeprecationWarning: NumPy will stop allowing conversion of out-of-bound Python integers to integer arrays.  The conversion of 530 to uint8 will fail in the future.\n",
      "For the old behavior, usually:\n",
      "    np.array(value).astype(dtype)`\n",
      "will give the desired result (the cast overflows).\n",
      "  image1_np = np.array(image1, dtype=np.uint8).reshape(28, 28, 1)   # 把这个image1转化为一个数学形式，采用np.array（）的方法\n",
      "C:\\Users\\Administrator\\AppData\\Local\\Temp\\ipykernel_14784\\1130399795.py:4: DeprecationWarning: NumPy will stop allowing conversion of out-of-bound Python integers to integer arrays.  The conversion of 309 to uint8 will fail in the future.\n",
      "For the old behavior, usually:\n",
      "    np.array(value).astype(dtype)`\n",
      "will give the desired result (the cast overflows).\n",
      "  image1_np = np.array(image1, dtype=np.uint8).reshape(28, 28, 1)   # 把这个image1转化为一个数学形式，采用np.array（）的方法\n",
      "C:\\Users\\Administrator\\AppData\\Local\\Temp\\ipykernel_14784\\1130399795.py:4: DeprecationWarning: NumPy will stop allowing conversion of out-of-bound Python integers to integer arrays.  The conversion of 306 to uint8 will fail in the future.\n",
      "For the old behavior, usually:\n",
      "    np.array(value).astype(dtype)`\n",
      "will give the desired result (the cast overflows).\n",
      "  image1_np = np.array(image1, dtype=np.uint8).reshape(28, 28, 1)   # 把这个image1转化为一个数学形式，采用np.array（）的方法\n"
     ]
    }
   ],
   "execution_count": 7
  },
  {
   "metadata": {
    "ExecuteTime": {
     "end_time": "2024-07-12T17:47:56.160806Z",
     "start_time": "2024-07-12T17:47:56.149843Z"
    }
   },
   "cell_type": "code",
   "source": "cv2.imwrite('image1.jpg', image1_np)   # 显示",
   "id": "2fbe6a0fdd351460",
   "outputs": [
    {
     "data": {
      "text/plain": [
       "True"
      ]
     },
     "execution_count": 8,
     "metadata": {},
     "output_type": "execute_result"
    }
   ],
   "execution_count": 8
  },
  {
   "metadata": {
    "ExecuteTime": {
     "end_time": "2024-07-12T17:47:56.932736Z",
     "start_time": "2024-07-12T17:47:56.917786Z"
    }
   },
   "cell_type": "code",
   "source": [
    "# 5 构建网络模型\n",
    "class FirstNet(nn.Module):\n",
    "    def __init__(self):\n",
    "        super().__init__()\n",
    "        self.conv1 = nn.Conv2d(1, 10, kernel_size=5)   # 灰度图片的通道：1  输出通道：10  卷积核：5（5x5）\n",
    "        self.conv2 = nn.Conv2d(10, 20, kernel_size=3)\n",
    "        self.fc1 = nn.Linear(20*10*10, 500)   # 20*10*10 输入通道数  500 输出通道数\n",
    "        self.fc2 = nn.Linear(500, 10)   # 只有是个数字，返回的是十个概率\n",
    "        \n",
    "    def forward(self, x):   # 前向传播\n",
    "        input_size = x.size(0)   # batch_size\n",
    "        x = self.conv1(x)   # 输入：batch_size*1*28*28, 输出是：batch*10*24*24  (28 - 5 + 1 = 24)  10是通道数\n",
    "        x = F.relu(x)   # shape是不会变化的\n",
    "        x = F.max_pool2d(x, 2, 2)   # 输入：batch*10*24*24 输出：batch*10*12*12\n",
    "        \n",
    "        x = self.conv2(x)   # 输入batch*10*12*12, 输出是：batch*20*10*10  (12 - 3 + 1 = 10)\n",
    "        x = F.relu(x)   # shape是不会变化的\n",
    "        \n",
    "        x = x.view(input_size, -1)   # 拉平，拉成一排  -1 自动计算维度，2000\n",
    "        \n",
    "        x = self.fc1(x)   # 输入：batch*2000 输出：batch*500\n",
    "        x = F.relu(x)\n",
    "        \n",
    "        x = self.fc2(x)   # 输入：batch*500 输出：batch*10\n",
    "        \n",
    "        output = F.log_softmax(x, dim=1)   # 计算分类后每个数字的概率值\n",
    "        return output"
   ],
   "id": "593cfe4da4a4b041",
   "outputs": [],
   "execution_count": 9
  },
  {
   "metadata": {
    "ExecuteTime": {
     "end_time": "2024-07-12T17:47:57.861169Z",
     "start_time": "2024-07-12T17:47:57.759510Z"
    }
   },
   "cell_type": "code",
   "source": [
    "# 6 定义优化器\n",
    "model = FirstNet().to(DEVICE)\n",
    "\n",
    "optimizer = optim.Adam(model.parameters())\n"
   ],
   "id": "a2e10306519f8144",
   "outputs": [],
   "execution_count": 10
  },
  {
   "metadata": {
    "ExecuteTime": {
     "end_time": "2024-07-12T17:47:58.509023Z",
     "start_time": "2024-07-12T17:47:58.502046Z"
    }
   },
   "cell_type": "code",
   "source": [
    "# 7 定义训练方法\n",
    "def train_model(model, device, train_loader, optimizer, epoch):\n",
    "    # training\n",
    "    model.train()\n",
    "    for batch_idx, (data, target) in enumerate(train_loader):      # data是数据，target是标签\n",
    "        # 部署到device上\n",
    "        data, target = data.to(device), target.to(device)\n",
    "        # 梯度初始化为0\n",
    "        optimizer.zero_grad()\n",
    "        # 预测\n",
    "        output = model(data)\n",
    "        # 计算损失\n",
    "        loss = F.cross_entropy(output, target)   # 这个交叉熵差值函数 适合多分类\n",
    "        # 反向传播\n",
    "        loss.backward()\n",
    "        # 优化参数\n",
    "        optimizer.step()\n",
    "        \n",
    "        if batch_idx % 3000 == 0:\n",
    "            print(\"Train Epoch: {} \\t Loss: {:.6f}\".format(epoch, loss.item()))"
   ],
   "id": "a491561c15816e9c",
   "outputs": [],
   "execution_count": 11
  },
  {
   "metadata": {
    "ExecuteTime": {
     "end_time": "2024-07-12T17:47:59.337678Z",
     "start_time": "2024-07-12T17:47:59.325719Z"
    }
   },
   "cell_type": "code",
   "source": [
    "# 8 定义测试方法\n",
    "def test_model(model, device, test_loader):\n",
    "    # 模型验证\n",
    "    model.eval()\n",
    "    # 正确率\n",
    "    correct = 0\n",
    "    # 测试损失\n",
    "    test_loss = 0\n",
    "    with torch.no_grad():  # 既不计算梯度， 也不会进行反向传播\n",
    "        for data, target in test_loader: \n",
    "            data, target = data.to(device), target.to(device)\n",
    "        # 测试数据\n",
    "            output = model(data)\n",
    "        # 计算测试损失\n",
    "            test_loss += F.cross_entropy(output, target, reduction='sum').item()\n",
    "        # 找到概率值最大的下标(多分类)\n",
    "            pred = output.max(1, keepdim=True)[1]   # 事实上，max返回的是一个容器，里面装着0：值 1： 索引\n",
    "        # 累计正确率\n",
    "            correct += pred.eq(target.view_as(pred)).sum().item()\n",
    "        \n",
    "    test_loss /= len(test_loader.dataset)\n",
    "    print(\"Test 平均损失 Loss: {:.4f}, 准确率：{:.3f}\\n\".format(test_loss, 100.0 * correct / len(test_loader.dataset)))"
   ],
   "id": "e9506ebb45969e2e",
   "outputs": [],
   "execution_count": 12
  },
  {
   "metadata": {
    "ExecuteTime": {
     "end_time": "2024-07-12T17:48:31.654008Z",
     "start_time": "2024-07-12T17:48:01.201751Z"
    }
   },
   "cell_type": "code",
   "source": [
    "# 9 调用 方法\n",
    "for epoch in range(1, EPOCHS + 1):\n",
    "    train_model(model, DEVICE, test_loader, optimizer, epoch)\n",
    "    test_model(model, DEVICE, test_loader)"
   ],
   "id": "b571c9b35c7b8523",
   "outputs": [
    {
     "name": "stdout",
     "output_type": "stream",
     "text": [
      "Train Epoch: 1 \t Loss: 2.295544\n",
      "Test 平均损失 Loss: 0.0926, 准确率：96.980\n",
      "\n",
      "Train Epoch: 2 \t Loss: 0.122402\n",
      "Test 平均损失 Loss: 0.0730, 准确率：97.350\n",
      "\n",
      "Train Epoch: 3 \t Loss: 0.225913\n",
      "Test 平均损失 Loss: 0.0237, 准确率：99.270\n",
      "\n",
      "Train Epoch: 4 \t Loss: 0.005303\n",
      "Test 平均损失 Loss: 0.0231, 准确率：99.220\n",
      "\n",
      "Train Epoch: 5 \t Loss: 0.000227\n",
      "Test 平均损失 Loss: 0.0203, 准确率：99.250\n",
      "\n",
      "Train Epoch: 6 \t Loss: 0.001088\n",
      "Test 平均损失 Loss: 0.0051, 准确率：99.850\n",
      "\n",
      "Train Epoch: 7 \t Loss: 0.000013\n",
      "Test 平均损失 Loss: 0.0069, 准确率：99.780\n",
      "\n",
      "Train Epoch: 8 \t Loss: 0.000865\n",
      "Test 平均损失 Loss: 0.0127, 准确率：99.530\n",
      "\n",
      "Train Epoch: 9 \t Loss: 0.005420\n",
      "Test 平均损失 Loss: 0.0040, 准确率：99.850\n",
      "\n",
      "Train Epoch: 10 \t Loss: 0.001878\n",
      "Test 平均损失 Loss: 0.0155, 准确率：99.530\n",
      "\n"
     ]
    }
   ],
   "execution_count": 13
  },
  {
   "metadata": {},
   "cell_type": "code",
   "outputs": [],
   "execution_count": null,
   "source": "",
   "id": "cd39e42c8ff36604"
  }
 ],
 "metadata": {
  "kernelspec": {
   "display_name": "Python 3",
   "language": "python",
   "name": "python3"
  },
  "language_info": {
   "codemirror_mode": {
    "name": "ipython",
    "version": 2
   },
   "file_extension": ".py",
   "mimetype": "text/x-python",
   "name": "python",
   "nbconvert_exporter": "python",
   "pygments_lexer": "ipython2",
   "version": "2.7.6"
  }
 },
 "nbformat": 4,
 "nbformat_minor": 5
}
